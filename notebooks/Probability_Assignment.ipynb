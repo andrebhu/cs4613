{
  "cells": [
    {
      "cell_type": "markdown",
      "metadata": {
        "id": "HkVS9fjiPPB6"
      },
      "source": [
        "# Probability Assignment"
      ]
    },
    {
      "cell_type": "markdown",
      "metadata": {
        "id": "JmBODwG6PPB9"
      },
      "source": [
        "To get full credit in this assignment you need to use only `numpy` or `jax` libraries  and include adequate explanation of the code in either markdown cells or code comments. Sometimes you need to type equations - type equations in latex math notation. \n",
        "\n",
        "PS: Please note that we run through chatGPT the questions and you will be referred to the Dean if we find that a robot answered your questions.\n",
        "\n",
        "<a href=\"https://github.com/andrebhu/cs4613/blob/master/Probability_Assignment.ipynb\" target=\"_parent\"><img src=\"https://colab.research.google.com/assets/colab-badge.svg\" alt=\"Open in Colab\"/></a>"
      ]
    },
    {
      "cell_type": "markdown",
      "metadata": {
        "id": "S1k2jkcdPPB-"
      },
      "source": [
        "## Question 1a (10 points)\n",
        "\n",
        "In a private subreddit people are posting their opinions on the CEO of the company you work for. Lets assume that the employees that are posting are random logging in to that subreddit and that each post indicates whether the employee approves or not the job that the CEO is doing. Let $x_i$ be the binary random variable where $x_i=1$ indicates approval. You can assume that $x$ is distributed according to a Bernoulli distribution with parameter $p=1/2$.\n",
        "\n",
        "Your job is to sample $n=50$ posts and estimate the approval rate of the CEO by considering the statistics of $y=x_1+x_2+ \\dots + x_n$. What is the probability that 25 employees approve the CEO?\n",
        "\n",
        "## Question 1b (10 points)\n",
        "\n",
        "Following your findings in Q1a, read about the [Central Limit Theorem](https://en.wikipedia.org/wiki/Central_limit_theorem) and recognize that \n",
        "\n",
        "$$z=\\frac{y-\\mu_y}{\\sigma_y}$$ \n",
        "\n",
        "is normally distributed with mean 0 and variance 1.\n",
        "\n",
        "Can you find the probability that 25 employees approve the CEO using the Gaussian approximation?\n",
        "\n"
      ]
    },
    {
      "cell_type": "markdown",
      "metadata": {
        "id": "XlTvVPAxPPCF"
      },
      "source": [
        "### 1a\n",
        "$P(x) = \\begin{pmatrix}n \\\\ x \\end{pmatrix} p^x (1 - p)^{n - x}$\n",
        "\n",
        "$n = 50 \\\\ p = 1/5 \\\\ x = 25$\n",
        "\n",
        "$P(25) = \\begin{pmatrix}50 \\\\ 25 \\end{pmatrix} (1/2)^{25} (1 - 1/2)^{50 - 25}$\n",
        "\n",
        "$ = {50! \\over 25!(50-25)!} (1/2)^{25} (1 - 1/2)^{50 - 25}$\n",
        "\n",
        "$ = 0.1123$\n"
      ]
    },
    {
      "cell_type": "markdown",
      "source": [
        "### 1b\n",
        "$\\mu_y = np = 50 (1/2) = 25$\n",
        "\n",
        "$\\sigma_y = \\sqrt{np(1-p)} = \\sqrt{50(1/2)(1/2)} = 3.5355$\n",
        "\n",
        "$Y \\sim \\mathcal{N}(25, 3.5355)$\n",
        "\n",
        "\n",
        "$ P(X=25) = P(24.5 < Y < 25.5)$\n",
        "\n",
        "$ = 0.1125 $\n"
      ],
      "metadata": {
        "id": "KM4GMZ2tPU5x"
      }
    },
    {
      "cell_type": "markdown",
      "metadata": {
        "id": "pl3VkaUXPPCG"
      },
      "source": [
        "## Question 2 (20 points)\n",
        "\n",
        "A sequential experiment involves repeatedly drawing a ball from one of the two urns, noting the number on the ball and replacing the ball in the urn. Urn 0 contains a ball with the number 0 and two balls with the number 1. Urn 1 contains five balls with the number 0 and one ball with the number 1. \n",
        "\n",
        "The urn from which the first ball is drawn is selected by flipping a fair coin. Urn 0 is used if the outcome is H and urn 1 is used if the outcome is T. **The urn used in a subsequent draws corresponds to the number on the ball drawn in the previous draw.** \n",
        "\n",
        "What is the probability of a specific sequence of the numbers on drawn balls being 0011 ? \n",
        "\n",
        "\n"
      ]
    },
    {
      "cell_type": "markdown",
      "metadata": {
        "id": "oGlxDQSvPPCH"
      },
      "source": [
        "Start with coin flip H:\n",
        "- 0: Drawing from urn 0, 0 is 1/3\n",
        "- 0: Drawing from urn 0, 0 is 1/3\n",
        "- 1: Drawing from urn 0, 1 is 2/3\n",
        "- 1: Drawing from urn 1, 1 is 1/6\n",
        "\n",
        "Start with coin flip T:\n",
        "- 0: Drawing from urn 1, 0 is 5/6\n",
        "- 0: Drawing from urn 0, 0 is 1/3\n",
        "- 1: Drawing from urn 0, 1 is 2/3\n",
        "- 1: Drawing from urn 1, 1 is 1/6\n",
        "\n",
        "\n",
        "$ = (1/2)((1/3 * 1/3 * 2/3 * 1/6) + (5/6 * 1/3 * 2/3 * 1/6))$\n",
        "\n",
        "$ = 0.0216$"
      ]
    },
    {
      "cell_type": "markdown",
      "metadata": {
        "id": "Lhe8p7TXPPCH"
      },
      "source": [
        "## Question 3 (20 points) \n",
        "\n",
        "Referring to Example 6.6 of the  [Math for ML book](https://mml-book.github.io/book/mml-book.pdf), simulate and plot the bivariate normal distribution with the shown parameters using the [Cholesky factorization](https://numpy.org/doc/stable/reference/generated/numpy.linalg.cholesky.html) for the simulation. \n"
      ]
    },
    {
      "cell_type": "markdown",
      "source": [
        "$p(x_1, x_2) = \\mathcal{N} = (\\begin{bmatrix}0 \\\\ 2 \\end{bmatrix}, \\begin{bmatrix} 0.3 & -1 \\\\ -1 & 5 \\end{bmatrix})$\n",
        "\n",
        "$y = Ax + \\mu$"
      ],
      "metadata": {
        "id": "DOn70il0YjOk"
      }
    },
    {
      "cell_type": "code",
      "source": [
        "import numpy as np\n",
        "import pandas as pd\n",
        "import seaborn as sns\n",
        "import matplotlib.pyplot as plt\n",
        "\n",
        "np.random.seed(0)\n",
        "sns.set_theme(style='whitegrid', palette='pastel')\n",
        "\n",
        "import warnings\n",
        "warnings.filterwarnings('ignore')"
      ],
      "metadata": {
        "id": "WVPGNNzFbOkG"
      },
      "execution_count": null,
      "outputs": []
    },
    {
      "cell_type": "code",
      "source": [
        "mean = [0, 2]\n",
        "cov = [[0.3, -1], [-1, 5]]\n",
        "\n",
        "L = np.linalg.cholesky(cov)\n",
        "\n",
        "samples = np.random.normal(size=(1000, 2))\n",
        "\n",
        "samples = np.dot(samples, L.T) + mean\n",
        "\n",
        "sns.scatterplot(x=samples[:, 0], y=samples[:, 1])\n",
        "\n",
        "plt.show()"
      ],
      "metadata": {
        "colab": {
          "base_uri": "https://localhost:8080/",
          "height": 268
        },
        "id": "AvhnGPkUYHCj",
        "outputId": "123429ad-8292-41f4-de61-d01c789bef91"
      },
      "execution_count": null,
      "outputs": [
        {
          "output_type": "display_data",
          "data": {
            "text/plain": [
              "<Figure size 432x288 with 1 Axes>"
            ],
            "image/png": "[encoded data removed]"
          },
          "metadata": {}
        }
      ]
    },
    {
      "cell_type": "markdown",
      "metadata": {
        "id": "sJvsuAwHPPCK"
      },
      "source": [
        "## Question 4 (20 points)\n",
        "\n",
        "Go through the provided links on [Poisson](https://dlsun.github.io/probability/poisson.html) and [exponential distributions](https://dlsun.github.io/probability/exponential.html) as the `Math for ML` textbook in your course site  is not covering enough these important distributions.\n",
        "\n",
        "Watch this video https://www.youtube.com/watch?v=Asto3RS46ks where the author is explaining how to simulate a Poisson distribution from scratch. \n",
        "\n",
        "1. Using the Kaggle API download [this dataset](https://www.kaggle.com/datasets/new-york-city/nyc-east-river-bicycle-crossings) and plot the histogram of the number of cyclists that cross the Brooklyn bridge per day.  \n",
        "2. Simulate the number of cyclists that cross the Brooklyn bridge per day using the Poisson distribution. Ensure that the simulated counts are similar distribution-wise to the observed counts.\n"
      ]
    },
    {
      "cell_type": "markdown",
      "source": [
        "### 4.1"
      ],
      "metadata": {
        "id": "0yrJ5MSpnTVL"
      }
    },
    {
      "cell_type": "code",
      "source": [
        "!mkdir ~/.kaggle\n",
        "!touch ~/.kaggle/kaggle.json\n",
        "\n",
        "# please don't steal my api key thanks\n",
        "api_token = {\"username\":\"andrehu\",\"key\":\"451234e9ec90cc4c721baae8c28a3d12\"}\n",
        "\n",
        "import json\n",
        "\n",
        "with open('/root/.kaggle/kaggle.json', 'w') as file:\n",
        "  file.write(json.dumps(api_token))\n",
        "\n",
        "!chmod 600 ~/.kaggle/kaggle.json\n",
        "!kaggle datasets download -d new-york-city/nyc-east-river-bicycle-crossings"
      ],
      "metadata": {
        "colab": {
          "base_uri": "https://localhost:8080/"
        },
        "id": "ouA-V5Yzilou",
        "outputId": "f6fde1cd-a530-4ca7-c4d2-b56aca2b759b"
      },
      "execution_count": null,
      "outputs": [
        {
          "output_type": "stream",
          "name": "stdout",
          "text": [
            "mkdir: cannot create directory ‘/root/.kaggle’: File exists\n",
            "nyc-east-river-bicycle-crossings.zip: Skipping, found more recently modified local copy (use --force to force download)\n"
          ]
        }
      ]
    },
    {
      "cell_type": "code",
      "source": [
        "df = pd.read_csv('nyc-east-river-bicycle-crossings.zip')\n",
        "df.head()"
      ],
      "metadata": {
        "colab": {
          "base_uri": "https://localhost:8080/",
          "height": 206
        },
        "id": "-H44zonDgtMm",
        "outputId": "9ecbb57c-b4e5-4692-e97d-1c98e790af4a"
      },
      "execution_count": null,
      "outputs": [
        {
          "output_type": "execute_result",
          "data": {
            "text/plain": [
              "   Unnamed: 0                 Date                  Day  High Temp (°F)  \\\n",
              "0           0  2016-04-01 00:00:00  2016-04-01 00:00:00            78.1   \n",
              "1           1  2016-04-02 00:00:00  2016-04-02 00:00:00            55.0   \n",
              "2           2  2016-04-03 00:00:00  2016-04-03 00:00:00            39.9   \n",
              "3           3  2016-04-04 00:00:00  2016-04-04 00:00:00            44.1   \n",
              "4           4  2016-04-05 00:00:00  2016-04-05 00:00:00            42.1   \n",
              "\n",
              "   Low Temp (°F) Precipitation  Brooklyn Bridge  Manhattan Bridge  \\\n",
              "0           66.0          0.01           1704.0              3126   \n",
              "1           48.9          0.15            827.0              1646   \n",
              "2           34.0          0.09            526.0              1232   \n",
              "3           33.1      0.47 (S)            521.0              1067   \n",
              "4           26.1             0           1416.0              2617   \n",
              "\n",
              "   Williamsburg Bridge  Queensboro Bridge  Total  \n",
              "0               4115.0             2552.0  11497  \n",
              "1               2565.0             1884.0   6922  \n",
              "2               1695.0             1306.0   4759  \n",
              "3               1440.0             1307.0   4335  \n",
              "4               3081.0             2357.0   9471  "
            ],
            "text/html": [
              "\n",
              "  <div id=\"df-16599f3e-908f-4ad7-8023-57bdb84169ae\">\n",
              "    <div class=\"colab-df-container\">\n",
              "      <div>\n",
              "<style scoped>\n",
              "    .dataframe tbody tr th:only-of-type {\n",
              "        vertical-align: middle;\n",
              "    }\n",
              "\n",
              "    .dataframe tbody tr th {\n",
              "        vertical-align: top;\n",
              "    }\n",
              "\n",
              "    .dataframe thead th {\n",
              "        text-align: right;\n",
              "    }\n",
              "</style>\n",
              "<table border=\"1\" class=\"dataframe\">\n",
              "  <thead>\n",
              "    <tr style=\"text-align: right;\">\n",
              "      <th></th>\n",
              "      <th>Unnamed: 0</th>\n",
              "      <th>Date</th>\n",
              "      <th>Day</th>\n",
              "      <th>High Temp (°F)</th>\n",
              "      <th>Low Temp (°F)</th>\n",
              "      <th>Precipitation</th>\n",
              "      <th>Brooklyn Bridge</th>\n",
              "      <th>Manhattan Bridge</th>\n",
              "      <th>Williamsburg Bridge</th>\n",
              "      <th>Queensboro Bridge</th>\n",
              "      <th>Total</th>\n",
              "    </tr>\n",
              "  </thead>\n",
              "  <tbody>\n",
              "    <tr>\n",
              "      <th>0</th>\n",
              "      <td>0</td>\n",
              "      <td>2016-04-01 00:00:00</td>\n",
              "      <td>2016-04-01 00:00:00</td>\n",
              "      <td>78.1</td>\n",
              "      <td>66.0</td>\n",
              "      <td>0.01</td>\n",
              "      <td>1704.0</td>\n",
              "      <td>3126</td>\n",
              "      <td>4115.0</td>\n",
              "      <td>2552.0</td>\n",
              "      <td>11497</td>\n",
              "    </tr>\n",
              "    <tr>\n",
              "      <th>1</th>\n",
              "      <td>1</td>\n",
              "      <td>2016-04-02 00:00:00</td>\n",
              "      <td>2016-04-02 00:00:00</td>\n",
              "      <td>55.0</td>\n",
              "      <td>48.9</td>\n",
              "      <td>0.15</td>\n",
              "      <td>827.0</td>\n",
              "      <td>1646</td>\n",
              "      <td>2565.0</td>\n",
              "      <td>1884.0</td>\n",
              "      <td>6922</td>\n",
              "    </tr>\n",
              "    <tr>\n",
              "      <th>2</th>\n",
              "      <td>2</td>\n",
              "      <td>2016-04-03 00:00:00</td>\n",
              "      <td>2016-04-03 00:00:00</td>\n",
              "      <td>39.9</td>\n",
              "      <td>34.0</td>\n",
              "      <td>0.09</td>\n",
              "      <td>526.0</td>\n",
              "      <td>1232</td>\n",
              "      <td>1695.0</td>\n",
              "      <td>1306.0</td>\n",
              "      <td>4759</td>\n",
              "    </tr>\n",
              "    <tr>\n",
              "      <th>3</th>\n",
              "      <td>3</td>\n",
              "      <td>2016-04-04 00:00:00</td>\n",
              "      <td>2016-04-04 00:00:00</td>\n",
              "      <td>44.1</td>\n",
              "      <td>33.1</td>\n",
              "      <td>0.47 (S)</td>\n",
              "      <td>521.0</td>\n",
              "      <td>1067</td>\n",
              "      <td>1440.0</td>\n",
              "      <td>1307.0</td>\n",
              "      <td>4335</td>\n",
              "    </tr>\n",
              "    <tr>\n",
              "      <th>4</th>\n",
              "      <td>4</td>\n",
              "      <td>2016-04-05 00:00:00</td>\n",
              "      <td>2016-04-05 00:00:00</td>\n",
              "      <td>42.1</td>\n",
              "      <td>26.1</td>\n",
              "      <td>0</td>\n",
              "      <td>1416.0</td>\n",
              "      <td>2617</td>\n",
              "      <td>3081.0</td>\n",
              "      <td>2357.0</td>\n",
              "      <td>9471</td>\n",
              "    </tr>\n",
              "  </tbody>\n",
              "</table>\n",
              "</div>\n",
              "      <button class=\"colab-df-convert\" onclick=\"convertToInteractive('df-16599f3e-908f-4ad7-8023-57bdb84169ae')\"\n",
              "              title=\"Convert this dataframe to an interactive table.\"\n",
              "              style=\"display:none;\">\n",
              "        \n",
              "  <svg xmlns=\"http://www.w3.org/2000/svg\" height=\"24px\"viewBox=\"0 0 24 24\"\n",
              "       width=\"24px\">\n",
              "    <path d=\"M0 0h24v24H0V0z\" fill=\"none\"/>\n",
              "    <path d=\"M18.56 5.44l.94 2.06.94-2.06 2.06-.94-2.06-.94-.94-2.06-.94 2.06-2.06.94zm-11 1L8.5 8.5l.94-2.06 2.06-.94-2.06-.94L8.5 2.5l-.94 2.06-2.06.94zm10 10l.94 2.06.94-2.06 2.06-.94-2.06-.94-.94-2.06-.94 2.06-2.06.94z\"/><path d=\"M17.41 7.96l-1.37-1.37c-.4-.4-.92-.59-1.43-.59-.52 0-1.04.2-1.43.59L10.3 9.45l-7.72 7.72c-.78.78-.78 2.05 0 2.83L4 21.41c.39.39.9.59 1.41.59.51 0 1.02-.2 1.41-.59l7.78-7.78 2.81-2.81c.8-.78.8-2.07 0-2.86zM5.41 20L4 18.59l7.72-7.72 1.47 1.35L5.41 20z\"/>\n",
              "  </svg>\n",
              "      </button>\n",
              "      \n",
              "  <style>\n",
              "    .colab-df-container {\n",
              "      display:flex;\n",
              "      flex-wrap:wrap;\n",
              "      gap: 12px;\n",
              "    }\n",
              "\n",
              "    .colab-df-convert {\n",
              "      background-color: #E8F0FE;\n",
              "      border: none;\n",
              "      border-radius: 50%;\n",
              "      cursor: pointer;\n",
              "      display: none;\n",
              "      fill: #1967D2;\n",
              "      height: 32px;\n",
              "      padding: 0 0 0 0;\n",
              "      width: 32px;\n",
              "    }\n",
              "\n",
              "    .colab-df-convert:hover {\n",
              "      background-color: #E2EBFA;\n",
              "      box-shadow: 0px 1px 2px rgba(60, 64, 67, 0.3), 0px 1px 3px 1px rgba(60, 64, 67, 0.15);\n",
              "      fill: #174EA6;\n",
              "    }\n",
              "\n",
              "    [theme=dark] .colab-df-convert {\n",
              "      background-color: #3B4455;\n",
              "      fill: #D2E3FC;\n",
              "    }\n",
              "\n",
              "    [theme=dark] .colab-df-convert:hover {\n",
              "      background-color: #434B5C;\n",
              "      box-shadow: 0px 1px 3px 1px rgba(0, 0, 0, 0.15);\n",
              "      filter: drop-shadow(0px 1px 2px rgba(0, 0, 0, 0.3));\n",
              "      fill: #FFFFFF;\n",
              "    }\n",
              "  </style>\n",
              "\n",
              "      <script>\n",
              "        const buttonEl =\n",
              "          document.querySelector('#df-16599f3e-908f-4ad7-8023-57bdb84169ae button.colab-df-convert');\n",
              "        buttonEl.style.display =\n",
              "          google.colab.kernel.accessAllowed ? 'block' : 'none';\n",
              "\n",
              "        async function convertToInteractive(key) {\n",
              "          const element = document.querySelector('#df-16599f3e-908f-4ad7-8023-57bdb84169ae');\n",
              "          const dataTable =\n",
              "            await google.colab.kernel.invokeFunction('convertToInteractive',\n",
              "                                                     [key], {});\n",
              "          if (!dataTable) return;\n",
              "\n",
              "          const docLinkHtml = 'Like what you see? Visit the ' +\n",
              "            '<a target=\"_blank\" href=https://colab.research.google.com/notebooks/data_table.ipynb>data table notebook</a>'\n",
              "            + ' to learn more about interactive tables.';\n",
              "          element.innerHTML = '';\n",
              "          dataTable['output_type'] = 'display_data';\n",
              "          await google.colab.output.renderOutput(dataTable, element);\n",
              "          const docLink = document.createElement('div');\n",
              "          docLink.innerHTML = docLinkHtml;\n",
              "          element.appendChild(docLink);\n",
              "        }\n",
              "      </script>\n",
              "    </div>\n",
              "  </div>\n",
              "  "
            ]
          },
          "metadata": {},
          "execution_count": 217
        }
      ]
    },
    {
      "cell_type": "code",
      "execution_count": null,
      "metadata": {
        "id": "JSJx6hpAPPCL",
        "colab": {
          "base_uri": "https://localhost:8080/",
          "height": 285
        },
        "outputId": "cc27517e-12fd-4bb7-e7c2-86bd6f58b3d5"
      },
      "outputs": [
        {
          "output_type": "display_data",
          "data": {
            "text/plain": [
              "<Figure size 432x288 with 1 Axes>"
            ],
            "image/png": "[encoded data removed]"
          },
          "metadata": {}
        }
      ],
      "source": [
        "sns.histplot(df['Brooklyn Bridge'], kde=True)\n",
        "plt.show()"
      ]
    },
    {
      "cell_type": "markdown",
      "source": [
        "### 4.2"
      ],
      "metadata": {
        "id": "_5BMe6AunU50"
      }
    },
    {
      "cell_type": "code",
      "source": [
        "# function from video\n",
        "def poisson(lam):\n",
        "  el, n, u = np.exp(-lam), 0, np.random.uniform(0, 1)\n",
        "  pp, fact, pow = el, 1, 1\n",
        "  while u > pp:\n",
        "    n = n + 1\n",
        "    fact, pow = n * fact, lam * pow\n",
        "    pp = pp + (pow / fact) * el\n",
        "  return n"
      ],
      "metadata": {
        "id": "xE0pL_JFoQvX"
      },
      "execution_count": null,
      "outputs": []
    },
    {
      "cell_type": "code",
      "source": [
        "def generate_samples(n, lam, scale):\n",
        "  samples = []\n",
        "  for i in range(n):\n",
        "    val = poisson(lam)\n",
        "    samples.append(val * scale)\n",
        "  return samples\n",
        "\n",
        "# samples = np.random.poisson(2, size=(250)) * 500\n",
        "samples = generate_samples(200, 10, 200)\n",
        "\n",
        "sns.histplot(samples, kde=True)\n",
        "plt.show()"
      ],
      "metadata": {
        "colab": {
          "base_uri": "https://localhost:8080/",
          "height": 268
        },
        "id": "GMpud99snaSD",
        "outputId": "06276185-98db-4a3b-ee42-7363f8462de2"
      },
      "execution_count": null,
      "outputs": [
        {
          "output_type": "display_data",
          "data": {
            "text/plain": [
              "<Figure size 432x288 with 1 Axes>"
            ],
            "image/png": "[encoded data removed]"
          },
          "metadata": {}
        }
      ]
    },
    {
      "cell_type": "markdown",
      "metadata": {
        "id": "1SUeTeqFPPCM"
      },
      "source": [
        "# Question 5 (20 points)\n",
        "\n",
        "You are asked to stress test an cloud API endpoint and are told that the API exposes a database server that can be abstracted as an M/M/1 queue. Go through [this introductory](https://queue-it.com/blog/queuing-theory/) page to just understand the queuing domain and the notation M/M/1. Go also through the elements of the MM1 queue [here](https://en.wikipedia.org/wiki/M/M/1_queue). Make sure you click on the links and learn about the random process called Poisson process. \n",
        "\n",
        "\n",
        "Your task is to simulate the behavior of the queue and plot the number of requests that are waiting in the queue as a function of time. You are given three arrival rates of the API requests $\\lambda=[1, 3, 4]$ and the service time of the requests as an exponential random variable with rate $\\mu=4$. \n",
        "\n",
        "   "
      ]
    },
    {
      "cell_type": "code",
      "source": [
        "def simulation(arrival_rate):\n",
        "  df = pd.DataFrame()\n",
        "  queue = []\n",
        "  i, service_time, next_arrival = 0, 0, 0\n",
        "  \n",
        "  while i < 1000:\n",
        "    while next_arrival < service_time:\n",
        "      queue.append(next_arrival)\n",
        "      next_arrival += np.random.poisson(arrival_rate)\n",
        "\n",
        "    df = df.append({'time': next_arrival, 'waiting': len(queue)}, ignore_index=True)\n",
        "    try:\n",
        "      queue.pop()\n",
        "    except Exception as e:\n",
        "      pass\n",
        "\n",
        "    if len(queue) == 0:\n",
        "      service_time = next_arrival + np.random.exponential(4)\n",
        "    else:\n",
        "      service_time += np.random.exponential(4)\n",
        "    i += 1\n",
        "  return df\n",
        "\n",
        "sim1 = simulation(1)\n",
        "sim2 = simulation(3)\n",
        "sim3 = simulation(4)"
      ],
      "metadata": {
        "id": "l9X4rPs03ZAu"
      },
      "execution_count": null,
      "outputs": []
    },
    {
      "cell_type": "code",
      "source": [
        "# merging simulations\n",
        "df = pd.DataFrame()\n",
        "\n",
        "df['waiting1'] = sim1['waiting']\n",
        "df['waiting2'] = sim2['waiting']\n",
        "df['waiting3'] = sim3['waiting']"
      ],
      "metadata": {
        "id": "zDmo7r7fKbQP"
      },
      "execution_count": null,
      "outputs": []
    },
    {
      "cell_type": "code",
      "source": [
        "plt.figure(figsize=(12, 6))\n",
        "sns.lineplot(data=df)\n",
        "\n",
        "plt.xlabel(\"Time\")\n",
        "plt.ylabel(\"Waiting\")\n",
        "plt.show()"
      ],
      "metadata": {
        "colab": {
          "base_uri": "https://localhost:8080/",
          "height": 394
        },
        "id": "Chzo6DIOJ91N",
        "outputId": "6d40c572-c88a-47dc-fb48-4bcf576f2691"
      },
      "execution_count": null,
      "outputs": [
        {
          "output_type": "display_data",
          "data": {
            "text/plain": [
              "<Figure size 864x432 with 1 Axes>"
            ],
            "image/png": "[encoded data removed]"
          },
          "metadata": {}
        }
      ]
    }
  ],
  "metadata": {
    "kernelspec": {
      "display_name": "Python 3.10.4 64-bit",
      "language": "python",
      "name": "python3"
    },
    "language_info": {
      "codemirror_mode": {
        "name": "ipython",
        "version": 3
      },
      "file_extension": ".py",
      "mimetype": "text/x-python",
      "name": "python",
      "nbconvert_exporter": "python",
      "pygments_lexer": "ipython3",
      "version": "3.10.6"
    },
    "orig_nbformat": 4,
    "vscode": {
      "interpreter": {
        "hash": "31f2aee4e71d21fbe5cf8b01ff0e069b9275f58929596ceb00d14d90e3e16cd6"
      }
    },
    "colab": {
      "provenance": []
    }
  },
  "nbformat": 4,
  "nbformat_minor": 0
}